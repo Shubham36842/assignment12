{
 "cells": [
  {
   "cell_type": "raw",
   "id": "a5207ce9-c3ca-42ed-b0dc-8abd52030753",
   "metadata": {},
   "source": [
    "Q1. Explain the assumptions required to use ANOVA and provide examples of violations that could impact the validity of the results."
   ]
  },
  {
   "cell_type": "raw",
   "id": "1c64fb74-6553-4c87-bd2b-eb3345bc99e3",
   "metadata": {},
   "source": [
    "Ans:Analysis of Variance (ANOVA) is a statistical technique used to compare the means of two or more groups to determine if there are statistically significant differences among them. To use ANOVA appropriately and interpret its results correctly, several assumptions need to be met. Violations of these assumptions can impact the validity of ANOVA results. The key \n",
    "\n",
    "assumptions for ANOVA are:\n",
    "Independence of Observations: The observations within each group must be independent of each other. In other words, the values in one group should not be influenced by or related to the values in another group.\n",
    "\n",
    "Example of Violation: In a study where observations within a group are correlated (e.g., repeated measurements on the same subjects over time), the assumption of independence is violated.\n",
    "\n",
    "Normality: The residuals (the differences between observed values and group means) should be normally distributed within each group. This assumption is less critical when sample sizes are large due to the Central Limit Theorem, but it can still impact the validity of results with smaller sample sizes.\n",
    "\n",
    "Example of Violation: If the residuals within one or more groups follow a non-normal distribution, it can lead to inaccurate p-values and confidence intervals.\n",
    "\n",
    "Homogeneity of Variance (Homoscedasticity): The variances of the residuals should be approximately equal across all groups. This means that the spread of data points around the group means should be roughly the same for all groups.\n",
    "\n",
    "Example of Violation: If the variances are unequal (heteroscedasticity), ANOVA may not perform well. A group with a larger variance may dominate the results, leading to false positives or negatives.\n",
    "\n",
    "Independence of Errors: The errors (residuals) should be independent of each other, meaning that the value of one error should not provide information about the value of another error.\n",
    "\n",
    "Example of Violation: In time series data, errors may exhibit serial correlation, violating the independence of errors assumption.\n",
    "\n",
    "Equal Sample Sizes (for one-way ANOVA): In a one-way ANOVA, it is preferable to have equal sample sizes in all groups. While ANOVA can still be conducted with unequal sample sizes, it may be less robust in such cases."
   ]
  },
  {
   "cell_type": "raw",
   "id": "e66edf7f-3387-4a72-9010-0a9bdac1440b",
   "metadata": {},
   "source": [
    "Q2. What are the three types of ANOVA, and in what situations would each be used?"
   ]
  },
  {
   "cell_type": "raw",
   "id": "cab2da2d-5d92-41b4-9b1e-57108c2d7dbf",
   "metadata": {},
   "source": [
    "Ans:Analysis of Variance (ANOVA) is a statistical technique used to compare means between two or more groups to determine if there are significant differences among the groups. There are three primary types of ANOVA, each designed for different situations:\n",
    "\n",
    "One-Way ANOVA (One-Factor ANOVA):\n",
    "\n",
    "Use: One-Way ANOVA is used when you have one independent variable (categorical with more than two levels or groups) and one dependent variable (continuous or numeric).\n",
    "Situation: It is employed when you want to compare means across multiple groups to determine if there are statistically significant differences. Common situations include comparing the performance of different treatment groups, the effect of different factors on an outcome, or the impact of different levels of a categorical variable on a continuous variable.\n",
    "\n",
    "Two-Way ANOVA (Two-Factor ANOVA):\n",
    "\n",
    "Use: Two-Way ANOVA is used when you have two independent variables, often referred to as factors, and one dependent variable. These factors can be either categorical or continuous.\n",
    "Situation: Two-Way ANOVA is applied when you want to examine the influence of two factors on a single outcome variable. It helps assess main effects of each factor, as well as potential interactions between the two factors. For example, in a study of a new drug's effectiveness, you might examine the impact of both the drug dosage (a categorical factor) and the patient's age (a continuous factor) on treatment outcomes.\n",
    "\n",
    "Multivariate Analysis of Variance (MANOVA):\n",
    "\n",
    "Use: MANOVA is used when you have multiple dependent variables and one or more independent variables (factors).\n",
    "Situation: It is employed when you want to analyze how multiple dependent variables simultaneously respond to the influence of one or more independent variables. MANOVA is useful when you are interested in examining patterns of variation across multiple outcome variables while controlling for the effects of independent variables. For example, in psychology, you might use MANOVA to assess how different types of therapy affect not just one outcome (e.g., depression score) but multiple outcomes (e.g., depression score, anxiety score, and quality of life score)."
   ]
  },
  {
   "cell_type": "raw",
   "id": "087a6ae5-e166-4a6b-bf02-0ef6195c09d7",
   "metadata": {},
   "source": [
    "Q3. What is the partitioning of variance in ANOVA, and why is it important to understand this concept?"
   ]
  },
  {
   "cell_type": "raw",
   "id": "00e81def-d447-4373-85ac-34ba4e2a7c6f",
   "metadata": {},
   "source": [
    "Ans:The partitioning of variance in Analysis of Variance (ANOVA) is a fundamental concept that helps explain how the total variability in a dataset is broken down into different components to assess the sources of variation and determine whether the differences between groups are statistically significant. \n",
    "\n",
    "The partitioning of variance in ANOVA is a critical concept that enables researchers to quantify and understand the sources of variability in their data, assess group differences, conduct hypothesis tests, evaluate model fit, and draw meaningful conclusions about the factors or variables that influence the outcome of interest. It is a foundational concept in statistical analysis and hypothesis testing."
   ]
  },
  {
   "cell_type": "raw",
   "id": "dbe2cf6d-8e95-4ece-97e1-9d3ad5b98307",
   "metadata": {},
   "source": [
    "Q4. How would you calculate the total sum of squares (SST), explained sum of squares (SSE), and residual sum of squares (SSR) in a one-way ANOVA using Python?"
   ]
  },
  {
   "cell_type": "raw",
   "id": "b4d2e646-4554-402b-9171-5663bde1ce74",
   "metadata": {},
   "source": [
    "Ans:\n",
    "In a one-way ANOVA, you can calculate the total sum of squares (SST), explained sum of squares (SSE), and residual sum of squares (SSR) using Python by following these steps:\n",
    "\n",
    "Calculate the Total Sum of Squares (SST):\n",
    "\n",
    "SST measures the total variation in the dependent variable (the sum of squared differences between each data point and the overall mean).\n",
    "1.To calculate SST, follow these steps:\n",
    "2.Calculate the overall mean of the data.\n",
    "For each data point, calculate the squared difference between the data point and the overall mean.\n",
    "3.Sum up all these squared differences\n",
    "\n",
    "\n",
    "In a one-way ANOVA, you can calculate the total sum of squares (SST), explained sum of squares (SSE), and residual sum of squares (SSR) using Python by following these steps:\n",
    "\n",
    "Calculate the Explained Sum of Squares (SSE):\n",
    "\n",
    "SSE measures the variation between group means (the sum of squared differences between each group mean and the overall mean).\n",
    "1.To calculate SSE, follow these steps:\n",
    "2.Calculate the mean of each group's data.\n",
    "For each group, calculate the squared difference between its mean and the overall mean.\n",
    "3.Sum up all these squared differences\n",
    "\n",
    "Calculate the Residual Sum of Squares (SSR):\n",
    "\n",
    "SSR measures the variation within each group (the sum of squared differences between individual data points and their respective group means).\n",
    "1.To calculate SSR, follow these steps:\n",
    "For each group, calculate the squared difference between each data point and the group mean.\n",
    "2.Sum up these squared differences for all groups"
   ]
  },
  {
   "cell_type": "raw",
   "id": "fc338e44-149d-4e8e-84de-5f2f866534cb",
   "metadata": {},
   "source": [
    "Q5. In a two-way ANOVA, how would you calculate the main effects and interaction effects using Python?"
   ]
  },
  {
   "cell_type": "raw",
   "id": "119c581a-cc7a-4c4c-b12b-a7b6d56b96fe",
   "metadata": {},
   "source": [
    "Ans:In a two-way ANOVA, you can calculate the main effects and interaction effects using Python by analyzing the variation in the dependent variable explained by the two independent variables (factors) and their interaction. Here's how you can calculate the main effects and interaction effects:\n",
    "\n",
    "Let's assume you have two categorical independent variables, Factor A with 'a' levels and Factor B with 'b' levels, and a continuous dependent variable.\n",
    "\n",
    "Main Effect of Factor A:\n",
    "\n",
    "Calculate the mean of the dependent variable for each level of Factor A.\n",
    "Calculate the overall mean of the dependent variable.\n",
    "The main effect of Factor A is the difference between the means of the levels of Factor A and the overall mean.\n",
    "\n",
    "Main Effect of Factor B:\n",
    "\n",
    "Calculate the mean of the dependent variable for each level of Factor B.\n",
    "Calculate the overall mean of the dependent variable.\n",
    "The main effect of Factor B is the difference between the means of the levels of Factor B and the overall mean\n",
    "\n",
    "Interaction Effect:\n",
    "\n",
    "The interaction effect assesses whether the combined effect of Factor A and Factor B is different from what would be expected if the effects of A and B were independent.\n",
    "Calculate the means of the dependent variable for each combination of Factor A and Factor B.\n",
    "The interaction effect is the difference between these means and the means that would be expected based on the main effects of A and B."
   ]
  },
  {
   "cell_type": "raw",
   "id": "831661f0-2d2e-4400-9aaa-0a8f53482f90",
   "metadata": {},
   "source": [
    "Q6. Suppose you conducted a one-way ANOVA and obtained an F-statistic of 5.23 and a p-value of 0.02.What can you conclude about the differences between the groups, and how would you interpret these results?"
   ]
  },
  {
   "cell_type": "raw",
   "id": "44f856a6-8ca2-45ea-a9c7-bf52346c5619",
   "metadata": {},
   "source": [
    "Ans;In a one-way ANOVA, the F-statistic is used to test whether there are statistically significant differences between the means of two or more groups. The p-value associated with the F-statistic helps determine whether these differences are statistically significant. Here's how to interpret the results you provided:\n",
    "\n",
    "F-Statistic (F-value):\n",
    "\n",
    "The F-statistic, in this case, is 5.23. It measures the ratio of the variance between group means to the variance within groups. A higher F-value suggests greater variation between group means relative to within-group variation.\n",
    "P-Value:\n",
    "\n",
    "The p-value associated with the F-statistic is 0.02. It indicates the probability of obtaining the observed F-value (or more extreme results) if there were no true differences between the groups (i.e., if the null hypothesis were true).\n",
    "Now, let's interpret these results:\n",
    "\n",
    "Null Hypothesis (H0): The null hypothesis in ANOVA states that there are no significant differences between the means of the groups. In other words, all group means are equal.\n",
    "\n",
    "Alternative Hypothesis (H1): The alternative hypothesis typically states that at least one group mean is different from the others.\n",
    "\n",
    "Interpretation:\n",
    "\n",
    "Since the p-value (0.02) is less than the chosen significance level (e.g., 0.05), you would reject the null hypothesis (H0).\n",
    "The p-value indicates that there is strong evidence to suggest that at least one group mean is different from the others.\n",
    "In practical terms, the ANOVA results suggest that there are statistically significant differences between at least two of the groups. However, ANOVA does not tell you which specific groups are different from each other; additional post hoc tests (e.g., Tukey's test or Bonferroni correction) may be conducted to identify pairwise differences between groups."
   ]
  },
  {
   "cell_type": "raw",
   "id": "f8861031-071c-4e53-8ec7-39dbdf00a985",
   "metadata": {},
   "source": [
    "Q7. In a repeated measures ANOVA, how would you handle missing data, and what are the potential consequences of using different methods to handle missing data?"
   ]
  },
  {
   "cell_type": "raw",
   "id": "768d4c1f-fc2e-405e-a556-47153570745d",
   "metadata": {},
   "source": [
    "Ans:Handling missing data in a repeated measures ANOVA is a crucial aspect of data analysis. Repeated measures ANOVA involves collecting data on the same subjects or items at multiple time points or conditions. Missing data can occur due to various reasons, such as participant dropout, equipment malfunction, or data entry errors. The way you handle missing data can impact the validity and interpretability of your results. Here are some common methods for handling missing data and their potential consequences:\n",
    "1.Complete Case Analysis (Listwise Deletion)\n",
    "2.Mean Imputation\n",
    "3.Linear Interpolation or Time Series Imputation\n",
    "4.Multiple Imputation\n",
    "5.Maximum Likelihood Estimation (MLE)"
   ]
  },
  {
   "cell_type": "raw",
   "id": "f6559726-94c6-408e-96d6-2ffee386ebb2",
   "metadata": {},
   "source": [
    "Q8. What are some common post-hoc tests used after ANOVA, and when would you use each one? Provide an example of a situation where a post-hoc test might be necessary."
   ]
  },
  {
   "cell_type": "raw",
   "id": "3eee63ac-9f7a-4f86-820c-a9806225fcb8",
   "metadata": {},
   "source": [
    "Ans:Post-hoc tests are used after conducting an analysis of variance (ANOVA) to make pairwise comparisons between groups when the ANOVA indicates that there are significant differences among groups. These tests help identify which specific groups differ from each other. Common post-hoc tests include:\n",
    "\n",
    "Tukey's Honestly Significant Difference (HSD):\n",
    "\n",
    "Use: Tukey's HSD test is widely used when you have conducted an ANOVA with multiple groups (three or more) and want to identify which pairs of groups have significantly different means.\n",
    "When to Use: Use Tukey's HSD when you have conducted a one-way ANOVA, and the ANOVA result is significant, indicating that there are differences between at least some of the groups. Tukey's HSD will help you determine which specific group means are different from each other.\n",
    "Example: In a study comparing the effectiveness of three different treatments on reducing blood pressure, the ANOVA reveals a significant difference among the treatments. Tukey's HSD can be used to determine which pairs of treatments have significantly different effects.\n",
    "\n",
    "Bonferroni Correction:\n",
    "\n",
    "Use: The Bonferroni correction is a conservative approach used to control the familywise error rate when conducting multiple pairwise comparisons.\n",
    "When to Use: It is appropriate when you are concerned about making type I errors (false positives) when conducting multiple tests. Use it when you have a large number of pairwise comparisons to control for the increased chance of finding significant differences by chance.\n",
    "Example: In a marketing study, you compare the sales of a product across 10 different regions using ANOVA. To avoid inflating the overall Type I error rate, you apply Bonferroni correction when conducting pairwise comparisons between regions.\n",
    "\n",
    "Sidak Correction:\n",
    "\n",
    "Use: The Sidak correction is another method for controlling the familywise error rate when conducting multiple pairwise comparisons.\n",
    "When to Use: It is similar to the Bonferroni correction and is appropriate when you want to control for type I errors in a conservative manner. Use it when conducting multiple comparisons.\n",
    "Example: In a research study involving multiple treatments and a one-way ANOVA, you apply the Sidak correction to control for the increased likelihood of finding significant differences between treatment pairs.\n",
    "\n",
    "Duncan's Multiple Range Test (MRT):\n",
    "\n",
    "Use: Duncan's MRT is a post-hoc test that emphasizes the differences between group means and is relatively less conservative compared to Tukey's HSD.\n",
    "When to Use: Use Duncan's MRT when you want to emphasize the identification of specific groups with significantly different means. It can be less conservative than Tukey's HSD, making it appropriate for some situations.\n",
    "Example: In a plant growth experiment with multiple fertilizer treatments, the ANOVA suggests significant differences among the treatments. Duncan's MRT can be used to identify which treatments result in significantly different plant growth.\n",
    "\n",
    "Holm-Bonferroni Method:\n",
    "\n",
    "Use: The Holm-Bonferroni method is a stepwise procedure that adjusts p-values for multiple comparisons in a way that controls the familywise error rate.\n",
    "When to Use: Use this method when conducting multiple pairwise comparisons and want to control the overall Type I error rate without the stringent conservatism of Bonferroni.\n",
    "Example: In a clinical trial comparing the effects of different dosages of a medication on pain relief, you use the Holm-Bonferroni method to determine which dosages result in significantly different pain reduction."
   ]
  },
  {
   "cell_type": "raw",
   "id": "a8e4cc33-0708-4052-8ee6-b83a391ae89f",
   "metadata": {},
   "source": [
    "Q9. A researcher wants to compare the mean weight loss of three diets: A, B, and C. They collect data from 50 participants who were randomly assigned to one of the diets. Conduct a one-way ANOVA using Python to determine if there are any significant differences between the mean weight loss of the three diets.\n",
    "Report the F-statistic and p-value, and interpret the results."
   ]
  },
  {
   "cell_type": "code",
   "execution_count": 3,
   "id": "4f84cd2a-650a-4622-a716-802ebdc468f4",
   "metadata": {},
   "outputs": [
    {
     "name": "stdout",
     "output_type": "stream",
     "text": [
      "Reject the null hypothesis: There are significant differences between the mean weight loss of the three diets.\n",
      "F-Statistic: 145.94686296917484\n",
      "p-Value: 6.88345912641184e-21\n"
     ]
    }
   ],
   "source": [
    "import scipy.stats as stats\n",
    "import numpy as np\n",
    "# Data for weight loss in each diet group\n",
    "diet_a =np.random.randint(1,25,25)\n",
    "diet_b =np.random.randint(26,38,13)\n",
    "diet_c =np.random.randint(39,50,12)\n",
    "\n",
    "# Perform one-way ANOVA\n",
    "f_statistic, p_value = stats.f_oneway(diet_a, diet_b, diet_c)\n",
    "\n",
    "# Set the significance level\n",
    "alpha = 0.05\n",
    "\n",
    "# Interpret the results\n",
    "if p_value < alpha:\n",
    "    print(\"Reject the null hypothesis: There are significant differences between the mean weight loss of the three diets.\")\n",
    "else:\n",
    "    print(\"Fail to reject the null hypothesis: There are no significant differences between the mean weight loss of the three diets.\")\n",
    "\n",
    "# Print the F-statistic and p-value\n",
    "print(\"F-Statistic:\", f_statistic)\n",
    "print(\"p-Value:\", p_value)\n"
   ]
  },
  {
   "cell_type": "raw",
   "id": "3707d936-9c1d-4495-bac0-58724efd2e14",
   "metadata": {},
   "source": [
    "Q10. A company wants to know if there are any significant differences in the average time it takes to complete a task using three different software programs: Program A, Program B, and Program C. They randomly assign 30 employees to one of the programs and record the time it takes each employee to complete the task. Conduct a two-way ANOVA using Python to determine if there are any main effects or interaction effects between the software programs and employee experience level (novice vs. experienced). Report the F-statistics and p-values, and interpret the results.\n"
   ]
  },
  {
   "cell_type": "code",
   "execution_count": 16,
   "id": "d9e680c6-92c6-453d-ad7a-25205c50aaae",
   "metadata": {},
   "outputs": [
    {
     "name": "stdout",
     "output_type": "stream",
     "text": [
      "                          sum_sq    df         F    PR(>F)\n",
      "Software              886.719018   2.0  2.404592  0.111728\n",
      "Experience             10.027549   1.0  0.054385  0.817579\n",
      "Software:Experience   363.447054   2.0  0.985590  0.387824\n",
      "Residual             4425.128571  24.0       NaN       NaN\n"
     ]
    }
   ],
   "source": [
    "import statsmodels.api as sm\n",
    "from statsmodels.formula.api import ols\n",
    "import scipy.stats as stats\n",
    "import pandas as pd\n",
    "import numpy as np\n",
    "# Generate sample data (replace this with your actual data)\n",
    "data = {\n",
    "    'Software':np.random.choice(['A','B','C'],30), # Software programs\n",
    "    'Experience':np.random.choice(['Novice','Experience'],30),  # Employee experience level\n",
    "    'Time':np.random.randint(1,50,30) # Task completion time (replace with actual data)\n",
    "}\n",
    "\n",
    "# Create a DataFrame from the data\n",
    "df = pd.DataFrame(data)\n",
    "\n",
    "# Perform two-way ANOVA\n",
    "model =ols('Time ~ Software * Experience', data=df).fit()\n",
    "anova_table = sm.stats.anova_lm(model, typ=2)\n",
    "\n",
    "# Print the ANOVA table\n",
    "print(anova_table)\n"
   ]
  },
  {
   "cell_type": "raw",
   "id": "5ccd62a3-8c35-4077-b7ea-093efb9ae283",
   "metadata": {},
   "source": [
    " You can interpret the results as follows:\n",
    "\n",
    "The p-value for the main effect of software is greater than your chosen significance level (e.g., 0.05), you can conclude that there is no significant main effect of software on task completion time.\n",
    "The p-value for the main effect of experience level is greater than your chosen significance level(e,g,0.05), you can conclude that there is no significant main effect of experience level on task completion time.\n",
    "The p-value for the interaction effect is less than your chosen significance level(e,g,0.05), you can conclude that there is no significant interaction effect between software and experience level, indicating that the effect of software on task completion time depends on the employee's experience level."
   ]
  },
  {
   "cell_type": "raw",
   "id": "0367865e-ac52-436e-95b5-1e1b365c4a9c",
   "metadata": {},
   "source": [
    "Q11. An educational researcher is interested in whether a new teaching method improves student test scores. They randomly assign 100 students to either the control group (traditional teaching method) or the experimental group (new teaching method) and administer a test at the end of the semester. Conduct a two-sample t-test using Python to determine if there are any significant differences in test scores between the two groups. If the results are significant, follow up with a post-hoc test to determine which group(s) differ significantly from each other."
   ]
  },
  {
   "cell_type": "code",
   "execution_count": 23,
   "id": "fd4b595d-63c2-4bd2-9021-e183261a5086",
   "metadata": {},
   "outputs": [
    {
     "name": "stdout",
     "output_type": "stream",
     "text": [
      "Two-sample t-test results: There is no significant difference in test scores between the two groups.\n"
     ]
    }
   ],
   "source": [
    "import scipy.stats as stats\n",
    "import statsmodels.api as sm\n",
    "from statsmodels.formula.api import ols\n",
    "from statsmodels.stats.multicomp import pairwise_tukeyhsd\n",
    "import numpy as np\n",
    "# Generate sample data \n",
    "control_group =np.random.randint(1,100,50) # Test scores for the control group\n",
    "experimental_group = [x for x in range(1,101) if x not in control_group] # Test scores for the experimental group\n",
    "\n",
    "# Perform a two-sample t-test\n",
    "t_statistic, p_value = stats.ttest_ind(control_group, experimental_group)\n",
    "\n",
    "# Set the significance level\n",
    "alpha = 0.05\n",
    "\n",
    "# Interpret the t-test results\n",
    "if p_value < alpha:\n",
    "    print(\"Two-sample t-test results: There is a significant difference in test scores between the two groups.\")\n",
    "    print(\"p-Value:\", p_value)\n",
    "else:\n",
    "    print(\"Two-sample t-test results: There is no significant difference in test scores between the two groups.\")\n",
    "\n",
    "# If results are significant, perform Tukey's HSD post-hoc test\n",
    "if p_value < alpha:\n",
    "    data = {\n",
    "        'Group': ['Control'] * len(control_group) + ['Experimental'] * len(experimental_group),\n",
    "        'Test_Score': control_group + experimental_group\n",
    "    }\n",
    "    df = pd.DataFrame(data)\n",
    "\n",
    "    # Fit an ANOVA model\n",
    "    model = ols('Test_Score ~ Group', data=df).fit()\n",
    "\n",
    "    # Perform Tukey's HSD post-hoc test\n",
    "    tukey_result = pairwise_tukeyhsd(endog=df['Test_Score'], groups=df['Group'], alpha=alpha)\n",
    "\n",
    "    # Print the post-hoc test results\n",
    "    print(tukey_result)\n"
   ]
  },
  {
   "cell_type": "raw",
   "id": "0bfa64d8-24fc-46f9-9b0a-b5c1ffd8b571",
   "metadata": {},
   "source": [
    "Q12. A researcher wants to know if there are any significant differences in the average daily sales of three retail stores: Store A, Store B, and Store C. They randomly select 30 days and record the sales for each store on those days. Conduct a repeated measures ANOVA using Python to determine if there are any significant differences in sales between the three stores. If the results are significant, follow up with a post- hoc test to determine which store(s) differ significantly from each other"
   ]
  },
  {
   "cell_type": "code",
   "execution_count": 39,
   "id": "0091f34c-0224-4804-8420-e3642cc58e08",
   "metadata": {},
   "outputs": [
    {
     "ename": "TypeError",
     "evalue": "unsupported operand type(s) for +: 'types.GenericAlias' and 'types.GenericAlias'",
     "output_type": "error",
     "traceback": [
      "\u001b[0;31m---------------------------------------------------------------------------\u001b[0m",
      "\u001b[0;31mTypeError\u001b[0m                                 Traceback (most recent call last)",
      "Cell \u001b[0;32mIn[39], line 11\u001b[0m\n\u001b[1;32m      7\u001b[0m store_c_sales \u001b[38;5;241m=\u001b[39mnp\u001b[38;5;241m.\u001b[39mrandom\u001b[38;5;241m.\u001b[39mrandint(\u001b[38;5;241m250\u001b[39m,\u001b[38;5;241m500\u001b[39m,\u001b[38;5;241m30\u001b[39m)  \u001b[38;5;66;03m# Daily sales for Store C\u001b[39;00m\n\u001b[1;32m      9\u001b[0m \u001b[38;5;66;03m# Create a DataFrame from the data\u001b[39;00m\n\u001b[1;32m     10\u001b[0m data \u001b[38;5;241m=\u001b[39m {\n\u001b[0;32m---> 11\u001b[0m     \u001b[38;5;124m'\u001b[39m\u001b[38;5;124mStore\u001b[39m\u001b[38;5;124m'\u001b[39m:\u001b[38;5;28;43mlist\u001b[39;49m\u001b[43m[\u001b[49m\u001b[43mnp\u001b[49m\u001b[38;5;241;43m.\u001b[39;49m\u001b[43mrepeat\u001b[49m\u001b[43m(\u001b[49m\u001b[38;5;124;43m'\u001b[39;49m\u001b[38;5;124;43mA\u001b[39;49m\u001b[38;5;124;43m'\u001b[39;49m\u001b[43m,\u001b[49m\u001b[38;5;241;43m30\u001b[39;49m\u001b[43m)\u001b[49m\u001b[43m]\u001b[49m\u001b[43m \u001b[49m\u001b[38;5;241;43m+\u001b[39;49m\u001b[43m \u001b[49m\u001b[38;5;28;43mlist\u001b[39;49m\u001b[43m[\u001b[49m\u001b[43mnp\u001b[49m\u001b[38;5;241;43m.\u001b[39;49m\u001b[43mrepeat\u001b[49m\u001b[43m(\u001b[49m\u001b[38;5;124;43m'\u001b[39;49m\u001b[38;5;124;43mA\u001b[39;49m\u001b[38;5;124;43m'\u001b[39;49m\u001b[43m,\u001b[49m\u001b[38;5;241;43m30\u001b[39;49m\u001b[43m)\u001b[49m\u001b[43m]\u001b[49m \u001b[38;5;241m+\u001b[39m \u001b[38;5;28mlist\u001b[39m[np\u001b[38;5;241m.\u001b[39mrepeat(\u001b[38;5;124m'\u001b[39m\u001b[38;5;124mC\u001b[39m\u001b[38;5;124m'\u001b[39m,\u001b[38;5;241m30\u001b[39m)],\n\u001b[1;32m     12\u001b[0m     \u001b[38;5;124m'\u001b[39m\u001b[38;5;124mSales\u001b[39m\u001b[38;5;124m'\u001b[39m:store_a_sales \u001b[38;5;241m+\u001b[39m store_b_sales \u001b[38;5;241m+\u001b[39m store_c_sales}\n\u001b[1;32m     13\u001b[0m df \u001b[38;5;241m=\u001b[39m pd\u001b[38;5;241m.\u001b[39mDataFrame(data)\n\u001b[1;32m     15\u001b[0m \u001b[38;5;66;03m# Perform one-way ANOVA\u001b[39;00m\n",
      "\u001b[0;31mTypeError\u001b[0m: unsupported operand type(s) for +: 'types.GenericAlias' and 'types.GenericAlias'"
     ]
    }
   ],
   "source": [
    "import scipy.stats as stats\n",
    "import pandas as pd\n",
    "import numpy as np\n",
    "# Generate sample data \n",
    "store_a_sales =np.random.randint(200,500,30)  # Daily sales for Store A\n",
    "store_b_sales =np.random.randint(300,500,30)  # Daily sales for Store B\n",
    "store_c_sales =np.random.randint(250,500,30)  # Daily sales for Store C\n",
    "\n",
    "# Create a DataFrame from the data\n",
    "data = {\n",
    "    'Store':list[np.repeat('A',30)] + list[np.repeat('A',30)] + list[np.repeat('C',30)],\n",
    "    'Sales':store_a_sales + store_b_sales + store_c_sales}\n",
    "df = pd.DataFrame(data)\n",
    "\n",
    "# Perform one-way ANOVA\n",
    "f_statistic, p_value = stats.f_oneway(\n",
    "    df[df['Store'] == 'A']['Sales'],\n",
    "    df[df['Store'] == 'B']['Sales'],\n",
    "    df[df['Store'] == 'C']['Sales']\n",
    ")\n",
    "\n",
    "# Set the significance level\n",
    "alpha = 0.05\n",
    "\n",
    "# Interpret the one-way ANOVA results\n",
    "if p_value < alpha:\n",
    "    print(\"One-way ANOVA results: There is a significant difference in average daily sales between the three stores.\")\n",
    "    print(\"p-Value:\", p_value)\n",
    "else:\n",
    "    print(\"One-way ANOVA results: There is no significant difference in average daily sales between the three stores.\")\n",
    "\n",
    "# If results are significant, perform post-hoc tests (e.g., Tukey's HSD) to identify differences between stores\n",
    "if p_value < alpha:\n",
    "    from statsmodels.stats.multicomp import pairwise_tukeyhsd\n",
    "    \n",
    "    # Perform Tukey's HSD post-hoc test\n",
    "    tukey_result = pairwise_tukeyhsd(endog=df['Sales'], groups=df['Store'], alpha=alpha)\n",
    "\n",
    "    # Print the post-hoc test results\n",
    "    print(tukey_result)\n"
   ]
  },
  {
   "cell_type": "code",
   "execution_count": null,
   "id": "0a05456e-8bdc-434a-a2a0-71befae61884",
   "metadata": {},
   "outputs": [],
   "source": []
  }
 ],
 "metadata": {
  "kernelspec": {
   "display_name": "Python 3 (ipykernel)",
   "language": "python",
   "name": "python3"
  },
  "language_info": {
   "codemirror_mode": {
    "name": "ipython",
    "version": 3
   },
   "file_extension": ".py",
   "mimetype": "text/x-python",
   "name": "python",
   "nbconvert_exporter": "python",
   "pygments_lexer": "ipython3",
   "version": "3.10.8"
  }
 },
 "nbformat": 4,
 "nbformat_minor": 5
}
