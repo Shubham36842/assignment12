{
 "cells": [
  {
   "cell_type": "raw",
   "id": "a131f5a3-e3ce-42e8-ba32-c5789773e862",
   "metadata": {},
   "source": [
    "Q1: What is the difference between a t-test and a z-test? Provide an example scenario where you would use each type of test.\n"
   ]
  },
  {
   "cell_type": "code",
   "execution_count": null,
   "id": "26bc683c-94e1-4f31-b57d-4542a43a7732",
   "metadata": {},
   "outputs": [],
   "source": []
  },
  {
   "cell_type": "raw",
   "id": "73e28a64-6ee1-4bea-bd38-0d460611db0e",
   "metadata": {},
   "source": [
    "Ans:A z-test is used if the population variance is known, or if the sample size is larger than 30, for an unknown population variance.If the sample size is less than 30 and the population variance is unknown, we must use a t-test.\n",
    "\n",
    "Z-test use:-Testing whether the average height of male adults is significantly different from a known value\n",
    "T-test use:-Testing whether a new teaching method improves student test scores compared to the old method"
   ]
  },
  {
   "cell_type": "raw",
   "id": "d5da8e79-7876-4647-bed1-cf121eff9bb3",
   "metadata": {},
   "source": [
    "Q2: Differentiate between one-tailed and two-tailed tests.\n"
   ]
  },
  {
   "cell_type": "raw",
   "id": "2b4c2e0b-2054-41e6-81e9-9736be773542",
   "metadata": {},
   "source": [
    "Ans:-\n",
    "The main difference between one-tailed and two-tailed tests is that one-tailed tests will only have one critical region whereas two-tailed tests will have two critical regions.\n",
    "One-tailed tests allow for the possibility of an effect in one direction. Two-tailed tests test for the possibility of an effect in two directions—positive and negative."
   ]
  },
  {
   "cell_type": "raw",
   "id": "1ced7675-373a-4cee-8c2f-b34a709aaa04",
   "metadata": {},
   "source": [
    "Q3: Explain the concept of Type 1 and Type 2 errors in hypothesis testing. Provide an example scenario for each type of error.\n"
   ]
  },
  {
   "cell_type": "raw",
   "id": "d3e74760-7a25-481a-bb7b-7efb7bcf0c9e",
   "metadata": {},
   "source": [
    "Ans:-A type I error (false-positive) occurs if an investigator rejects a null hypothesis that is actually true in the population.Example-the test result says you have coronavirus, but you actually don't.\n",
    "\n",
    "A type II error (false-negative) occurs if the investigator fails to reject a null hypothesis that is actually false in the population.Example-the test result says you don't have coronavirus, but you actually do."
   ]
  },
  {
   "cell_type": "raw",
   "id": "8e56409e-c926-40d6-90fb-33b98ad6c468",
   "metadata": {},
   "source": [
    "Q4: Explain Bayes's theorem with an example.\n"
   ]
  },
  {
   "cell_type": "raw",
   "id": "fa48b027-ae35-4e95-9b8d-62123a249502",
   "metadata": {},
   "source": [
    "Ans:-Bayes’ theorem describes the probability of occurrence of an event related to any condition. It is also considered for the case of conditional probability. Bayes theorem is also known as the formula for the probability of “causes”. For example: if we have to calculate the probability of taking a blue ball from the second bag out of three different bags of balls, where each bag contains three different colour balls viz. red, blue, black. In this case, the probability of occurrence of an event is calculated depending on other conditions is known as conditional probability.\n",
    "\n",
    "P(A/B)=P(B/A)*P(A)/P(B)"
   ]
  },
  {
   "cell_type": "raw",
   "id": "5911e0db-753e-4af7-8a03-2be87a59a609",
   "metadata": {},
   "source": [
    "Q5: What is a confidence interval? How to calculate the confidence interval, explain with an example.\n"
   ]
  },
  {
   "cell_type": "raw",
   "id": "761132a7-dba4-48ab-a575-68284763db5e",
   "metadata": {},
   "source": [
    "Ans:-A confidence interval, in statistics, refers to the probability that a population parameter will fall between a set of values for a certain proportion of times. Analysts often use confidence intervals that contain either 95% or 99% of expected observations. Thus, if a point estimate is generated from a statistical model of 10.00 with a 95% confidence interval of 9.50 - 10.50, it can be inferred that there is a 95% probability that the true value falls within that range.\n",
    "Once the standard error is calculated, the confidence interval is determined by multiplying the standard error by a constant that reflects the level of significance desired, based on the normal distribution. The constant for 95 percent confidence intervals is 1.96.\n",
    "\n",
    "Confidence interval (CI) = ‾X ± Z(S ÷ √n)"
   ]
  },
  {
   "cell_type": "raw",
   "id": "5edc23b6-72de-4abc-88b4-25ec3724f0da",
   "metadata": {},
   "source": [
    "Q6. Use Bayes' Theorem to calculate the probability of an event occurring given prior knowledge of the event's probability and new evidence. Provide a sample problem and solution.\n"
   ]
  },
  {
   "cell_type": "raw",
   "id": "711deea1-c830-4514-9066-57b8ba46e2a1",
   "metadata": {},
   "source": [
    "Ans:-\n",
    "Problem-A bag I contains 4 white and 6 black balls while another Bag II contains 4 white and 3 black balls. One ball is drawn at random from one of the bags, and it is found to be black. Find the probability that it was drawn from Bag I.\n",
    "\n",
    "Solution-\n",
    "Let E1 be the event of choosing bag I, E2 the event of choosing bag II, and A be the event of drawing a black ball.\n",
    "\n",
    "Then,\n",
    "\n",
    "P(E1)=P(E2)=1/2\n",
    "\n",
    "Also, P(A|E1) = P(drawing a black ball from Bag I) = 6/10 = 3/5\n",
    "\n",
    "P(A|E2) = P(drawing a black ball from Bag II) = 3/7\n",
    "\n",
    "By using Bayes’ theorem, the probability of drawing a black ball from bag I out of two bags,\n",
    "\n",
    "P(E1/A)=P(E1)*P(A/E1)/(P(E1)*P(A/E1)+P(E2)*P(A/E2)\n",
    "       =(1/2)*(3/5)/((1/2)*(3/5)+(1/2)*(3/7))\n",
    "       =7/12"
   ]
  },
  {
   "cell_type": "raw",
   "id": "fe42869a-fc82-43db-a7c1-3f37143b3812",
   "metadata": {},
   "source": [
    "Q7. Calculate the 95% confidence interval for a sample of data with a mean of 50 and a standard deviation of 5. Interpret the results.\n"
   ]
  },
  {
   "cell_type": "raw",
   "id": "004e16be-98f5-4e17-8008-6e3aa274022d",
   "metadata": {},
   "source": [
    "Ans:For 95% confidence interval let n=1\n",
    "CI=mean-1.96*SD/√n to mean+1.96*SD/√n\n",
    "CI=50-1.96*5/1  to 50+1.96*5/1\n",
    " = 40.2 to 59.8"
   ]
  },
  {
   "cell_type": "raw",
   "id": "2fff3b01-e71f-4651-895c-e5db3451ab83",
   "metadata": {},
   "source": [
    "Q8. What is the margin of error in a confidence interval? How does sample size affect the margin of error? Provide an example of a scenario where a larger sample size would result in a smaller margin of error.\n"
   ]
  },
  {
   "cell_type": "raw",
   "id": "377f4a81-586d-440e-a8d5-497292e67313",
   "metadata": {},
   "source": [
    "Ans:-\n",
    "The margin of error for a confidence interval is equal to half the width of the confidence interval. For a sample of size , with sample proportion , and -score for the confidence level, , the margin of error is calculated as margin of error = Z ⋅ p ( 1 − p ) n .\n",
    "\n",
    "Larger the sample size, the smaller the sample standard error and therefore the smaller the margin of error.\n",
    "\n",
    "The margin of error is a range of values above and below the actual results from a survey. For example, a 60% “yes” response with a margin of error of 5% means that between 55% and 65% of the general population think that the answer is “yes.”"
   ]
  },
  {
   "cell_type": "raw",
   "id": "706c99a6-13e0-4784-a84d-0499b6bfa1ff",
   "metadata": {},
   "source": [
    "Q9. Calculate the z-score for a data point with a value of 75, a population mean of 70, and a population standard deviation of 5. Interpret the results.\n"
   ]
  },
  {
   "cell_type": "raw",
   "id": "ad63fb8c-91ca-49bd-b528-7f071f9a6ac1",
   "metadata": {},
   "source": [
    "Ans:-: Z = (x̅ – μ0) / (σ /√n).\n",
    "        = (75-70)/(5/1)\n",
    "        =5/5\n",
    "        =1"
   ]
  },
  {
   "cell_type": "raw",
   "id": "b497e641-e277-4f4b-8b76-67fb1d24b177",
   "metadata": {},
   "source": [
    "Q10. In a study of the effectiveness of a new weight loss drug, a sample of 50 participants lost an average of 6 pounds with a standard deviation of 2.5 pounds. Conduct a hypothesis test to determine if the drug is significantly effective at a 95% confidence level using a t-test.\n"
   ]
  },
  {
   "cell_type": "raw",
   "id": "5ea9e21f-384c-4d67-b793-49106044698d",
   "metadata": {},
   "source": [
    "Ans:-Given sample size n=50\n",
    "           sample mean-asumed mean=6 pound\n",
    "           standard deviation=2.5 pound\n",
    "           significance level=95%\n",
    "           Null Hypothesis=>x−μ=6\n",
    "           Alternative Hypothesis=>x−μ!=6\n",
    "           \n",
    "           tc=x−μ/(σ/√n)\n",
    "            =6/(2.5/7.071)\n",
    "            =6/0.353\n",
    "            =16.99\n",
    "            \n",
    "            degree of freedom=n-1=49\n",
    "            P value at 49 degree of freedom=2.012\n",
    "            here pvalue< T value,\n",
    "            Hence we reject Null Hypothesis"
   ]
  },
  {
   "cell_type": "raw",
   "id": "099fa042-a919-41d3-b1ca-52089eb1fd02",
   "metadata": {},
   "source": [
    "Q11. In a survey of 500 people, 65% reported being satisfied with their current job. Calculate the 95% confidence interval for the true proportion of people who are satisfied with their job.\n"
   ]
  },
  {
   "cell_type": "raw",
   "id": "7943d206-71c9-4e89-b543-d49dcf19f7ec",
   "metadata": {},
   "source": [
    "Ans:-Ans:For 95% confidence interval let n=500\n",
    "CI=mean-1.96*root(x(1-x)/n) to mean+1.96*root(x(1-x)/n)\n",
    " =0.65-0.0413 to 0.65+0.0413\n",
    " =0.6913 to 0.6087"
   ]
  },
  {
   "cell_type": "raw",
   "id": "993f6fd7-38f9-4fa6-82e8-f7764f9b761c",
   "metadata": {},
   "source": [
    "Q12. A researcher is testing the effectiveness of two different teaching methods on student performance. Sample A has a mean score of 85 with a standard deviation of 6, while sample B has a mean score of 82 with a standard deviation of 5. Conduct a hypothesis test to determine if the two teaching methods have a significant difference in student performance using a t-test with a significance level of 0.01.\n"
   ]
  },
  {
   "cell_type": "raw",
   "id": "fc94f500-0893-46d5-8d38-857f9738db13",
   "metadata": {},
   "source": [
    "Given Two SAMPLE A and B\n",
    "    Sample A->mean(x1)=85\n",
    "            sd1=6\n",
    "           let sample size n1=10\n",
    "     sample B->mean(x2)=82\n",
    "            sd2=5\n",
    "           let sample size n2=10\n",
    "   NuLL Hypothesis:- There is  no signficance difference between two teaching method.\n",
    "   ALTERNATIVE Hypothesis:- There is a significane difference between two teaching method.\n",
    "   \n",
    "   t-test=x1-x2/root(sd1*sd1/n1+sd2*sd2/n2)\n",
    "   t-test=85-82/root(36/10+25/10)\n",
    "         = 3/root(6.1)\n",
    "         =3/2.41\n",
    "         =1.244\n",
    "   \n",
    "   Degree of fredom of two sample =n1+n2-2=20-2=18\n",
    "   p value at90% significance level at o degree of freedom=1.734\n",
    "   \n",
    "   Since P value > T value\n",
    "        1.734   > 1.244\n",
    "        \n",
    "   Conclusion :- we fail to reject the null Hypothesis. There is a significance difference in                  teaching method of two teachers"
   ]
  },
  {
   "cell_type": "raw",
   "id": "a85dbdd5-71a8-4567-a797-a6ddddca19fb",
   "metadata": {},
   "source": [
    "Q13. A population has a mean of 60 and a standard deviation of 8. A sample of 50 observations has a mean of 65. Calculate the 90% confidence interval for the true population mean.\n"
   ]
  },
  {
   "cell_type": "raw",
   "id": "781f5c4c-da33-4eac-935e-cacfce180a11",
   "metadata": {},
   "source": [
    "Ans:-Population mean=60\n",
    "     sample mean=65\n",
    "     sd=8\n",
    "     confidence interval=90%\n",
    "     \n",
    "     NULL Hypothesis- There is no difference between sample mean and Population mean\n",
    "     ALTERNATIVE hypothesis-There is differnce between sample mean and Population mean\n",
    "     \n",
    "     t value=65-60/(sd/root(50))\n",
    "            =5/(8/7.07)\n",
    "            =5/1.131\n",
    "            =4.420\n",
    "     Degree of freedom =>sample size-1= 49\n",
    "     \n",
    "     p value at 90% significance level at 49 degree of freedom=1.761\n",
    "     \n",
    "     Since p value < T value\n",
    "     Conclusion: we reject the Null Hypothesis"
   ]
  },
  {
   "cell_type": "raw",
   "id": "1d42bdce-b3a3-440f-b9e2-44be07a04cdf",
   "metadata": {},
   "source": [
    "Q14. In a study of the effects of caffeine on reaction time, a sample of 30 participants had an average reaction time of 0.25 seconds with a standard deviation of 0.05 seconds. Conduct a hypothesis test to determine if the caffeine has a significant effect on reaction time at a 90% confidence level using a t-test."
   ]
  },
  {
   "cell_type": "raw",
   "id": "08278002-a1a3-4055-8b5b-171ef53ef363",
   "metadata": {},
   "source": [
    "Ans:-sample size=30\n",
    "     sample mean=0.25\n",
    "     sd=0.05\n",
    "     \n",
    "     Null Hypothesis:-The Caffeine has a significane effect on reaction time\n",
    "     ALTERNATIVE Hypothesis-The Caffeine has no signifance effect on reaction time\n",
    "     \n",
    "     t-test=0.25-0/(0.05/root(30))\n",
    "           = 0.25/(0.05/5.477)\n",
    "           =0.25/0.0091\n",
    "           =27.47\n",
    "           \n",
    "     Degree of freedom= 29\n",
    "     \n",
    "     P value at 90% confidence Interval at 29 degree of freedom=1.699\n",
    "      p value < T value\n",
    "       \n",
    "     Conclusion:- We reject the null hypothesis  "
   ]
  }
 ],
 "metadata": {
  "kernelspec": {
   "display_name": "Python 3 (ipykernel)",
   "language": "python",
   "name": "python3"
  },
  "language_info": {
   "codemirror_mode": {
    "name": "ipython",
    "version": 3
   },
   "file_extension": ".py",
   "mimetype": "text/x-python",
   "name": "python",
   "nbconvert_exporter": "python",
   "pygments_lexer": "ipython3",
   "version": "3.10.8"
  }
 },
 "nbformat": 4,
 "nbformat_minor": 5
}
