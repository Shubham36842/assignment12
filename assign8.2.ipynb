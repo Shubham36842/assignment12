{
 "cells": [
  {
   "cell_type": "raw",
   "id": "a3c6ec9f-3cbc-453f-b0c2-f6c8712978f0",
   "metadata": {},
   "source": [
    "Q1. Calculate the 95% confidence interval for a sample of data with a mean of 50 and a standard deviation of 5 using Python. Interpret the results.\n"
   ]
  },
  {
   "cell_type": "code",
   "execution_count": 2,
   "id": "b1c428f3-820d-450c-9346-4db5ac9fb1c4",
   "metadata": {},
   "outputs": [
    {
     "name": "stdout",
     "output_type": "stream",
     "text": [
      "95% Confidence Interval: (40.200180077299734, 59.799819922700266)\n"
     ]
    }
   ],
   "source": [
    "import scipy.stats as stats\n",
    "\n",
    "# Sample statistics\n",
    "mean = 50\n",
    "std_dev = 5\n",
    "confidence_level = 0.95  # 95% confidence level\n",
    "\n",
    "# Sample size (assuming you have one)\n",
    "sample_size = 1\n",
    "\n",
    "# Calculate the standard error (standard deviation of the sample mean)\n",
    "standard_error = std_dev / (sample_size ** 0.5)\n",
    "\n",
    "# Calculate the confidence interval\n",
    "confidence_interval = stats.norm.interval(confidence_level, loc=mean, scale=standard_error)\n",
    "\n",
    "# Print the confidence interval\n",
    "print(\"95% Confidence Interval:\", confidence_interval)"
   ]
  },
  {
   "cell_type": "raw",
   "id": "a53c61c1-03e5-46e0-9a0c-5bd73d84c057",
   "metadata": {},
   "source": [
    "\n",
    "Interpretation of the results:\n",
    "\n",
    "You can interpret this result as follows: \"We are 95% confident that the true population mean lies within the interval [lower bound, upper bound].\" In practical terms, this means that if you were to repeat the same sampling and calculation process many times, you would expect the true population mean to fall within this range in approximately 95% of those cases.\n"
   ]
  },
  {
   "cell_type": "raw",
   "id": "938d5412-11c5-4698-8eb3-58cea06362cc",
   "metadata": {},
   "source": [
    "Q2. Conduct a chi-square goodness of fit test to determine if the distribution of colors of M&Ms in a bag matches the expected distribution of 20% blue, 20% orange, 20% green, 10% yellow, 10% red, and 20% brown. Use Python to perform the test with a significance level of 0.05.\n"
   ]
  },
  {
   "cell_type": "code",
   "execution_count": 6,
   "id": "42dbae36-f845-4668-8327-e06e931d79df",
   "metadata": {},
   "outputs": [
    {
     "name": "stdout",
     "output_type": "stream",
     "text": [
      "Fail to reject the null hypothesis: The distribution of M&Ms colors matches the expected distribution.\n",
      "Chi-square Statistic: 0.08000000000000002\n",
      "P-value: 0.9999064204083867\n"
     ]
    }
   ],
   "source": [
    "import scipy.stats as stats\n",
    "\n",
    "# Observed frequencies of colors in the M&Ms bag (you need to collect this data)\n",
    "observed_frequencies = [\"observed_blue\", \"observed_orange\", \"observed_green\", \"observed_yellow\", \"observed_red\", \"observed_brown\"]\n",
    "\n",
    "# Expected frequencies based on the expected distribution\n",
    "expected_frequencies = [0.20, 0.20, 0.20, 0.10, 0.10, 0.20]  # Expected proportions\n",
    "\n",
    "# Perform the chi-square goodness of fit test\n",
    "chi_square_statistic, p_value = stats.chisquare(expected_frequencies)\n",
    "\n",
    "# Set the significance level\n",
    "alpha = 0.05\n",
    "\n",
    "# Determine whether to reject the null hypothesis\n",
    "if p_value < alpha:\n",
    "    print(\"Reject the null hypothesis: The distribution of M&Ms colors is not as expected.\")\n",
    "else:\n",
    "    print(\"Fail to reject the null hypothesis: The distribution of M&Ms colors matches the expected distribution.\")\n",
    "\n",
    "# Print the chi-square statistic and p-value\n",
    "print(\"Chi-square Statistic:\", chi_square_statistic)\n",
    "print(\"P-value:\", p_value)"
   ]
  },
  {
   "cell_type": "raw",
   "id": "4bf9b3cb-db8e-45d0-ba47-f64a49b4bd43",
   "metadata": {},
   "source": [
    "Q3. Use Python to calculate the chi-square statistic and p-value for a contingency table with the following\n",
    "data:"
   ]
  },
  {
   "cell_type": "code",
   "execution_count": 11,
   "id": "53d46692-8a2d-41db-8329-a09075f86845",
   "metadata": {},
   "outputs": [
    {
     "name": "stdout",
     "output_type": "stream",
     "text": [
      "statisctic=5.833333333333334\n",
      "p value is 0.05411376622282158\n",
      "Independent (H0 holds true)\n"
     ]
    }
   ],
   "source": [
    "from scipy.stats import chi2_contingency\n",
    "\n",
    "# defining the table\n",
    "data = [[20,15],[10,25],[15,20]]\n",
    "stat, p, dof, expected = chi2_contingency(data)\n",
    "print(\"statisctic={}\".format(stat))\n",
    "# interpret p-value\n",
    "alpha = 0.05\n",
    "print(\"p value is \" + str(p))\n",
    "if p <= alpha:\n",
    "\tprint('Dependent (reject H0)')\n",
    "else:\n",
    "\tprint('Independent (H0 holds true)')\n"
   ]
  },
  {
   "cell_type": "raw",
   "id": "c09d27ac-7813-408b-810c-b8ea3e4e3ea3",
   "metadata": {},
   "source": [
    "Q4. A study of the prevalence of smoking in a population of 500 individuals found that 60 individuals smoked. Use Python to calculate the 95% confidence interval for the true proportion of individuals in the population who smoke.\n"
   ]
  },
  {
   "cell_type": "code",
   "execution_count": 7,
   "id": "edaaf93b-58f1-4bd6-9cab-021d80a30316",
   "metadata": {},
   "outputs": [
    {
     "name": "stdout",
     "output_type": "stream",
     "text": [
      "95% Confidence Interval for Proportion of Smokers: (0.0915, 0.1485)\n"
     ]
    }
   ],
   "source": [
    "import scipy.stats as stats\n",
    "\n",
    "# Sample size\n",
    "sample_size = 500\n",
    "\n",
    "# Number of individuals who smoke\n",
    "smokers = 60\n",
    "\n",
    "# Calculate the proportion of smokers in the sample\n",
    "p_hat = smokers / sample_size\n",
    "\n",
    "# Set the confidence level\n",
    "confidence_level = 0.95\n",
    "\n",
    "# Calculate the standard error of the proportion\n",
    "standard_error = ((p_hat * (1 - p_hat)) / sample_size) ** 0.5\n",
    "\n",
    "# Calculate the critical value (z-score) for the desired confidence level\n",
    "z = stats.norm.ppf(1 - (1 - confidence_level) / 2)\n",
    "\n",
    "# Calculate the margin of error\n",
    "margin_of_error = z * standard_error\n",
    "\n",
    "# Calculate the confidence interval\n",
    "lower_bound = p_hat - margin_of_error\n",
    "upper_bound = p_hat + margin_of_error\n",
    "\n",
    "# Print the confidence interval\n",
    "print(\"95% Confidence Interval for Proportion of Smokers: ({:.4f}, {:.4f})\".format(lower_bound, upper_bound))\n"
   ]
  },
  {
   "cell_type": "raw",
   "id": "7038517d-edd9-4f56-864f-738bc4d2e7e4",
   "metadata": {},
   "source": [
    "Q5. Calculate the 90% confidence interval for a sample of data with a mean of 75 and a standard deviation of 12 using Python. Interpret the results.\n"
   ]
  },
  {
   "cell_type": "code",
   "execution_count": 9,
   "id": "042801ab-b822-4f47-9d7a-0c5e093e443f",
   "metadata": {},
   "outputs": [
    {
     "name": "stdout",
     "output_type": "stream",
     "text": [
      "90% Confidence Interval: (55.26175647658233, 94.73824352341767)\n"
     ]
    }
   ],
   "source": [
    "import scipy.stats as stats\n",
    "\n",
    "# Sample statistics\n",
    "mean = 75\n",
    "std_dev = 12\n",
    "confidence_level = 0.90  # 95% confidence level\n",
    "\n",
    "# Sample size (assuming you have one)\n",
    "sample_size = 1\n",
    "\n",
    "# Calculate the standard error (standard deviation of the sample mean)\n",
    "standard_error = std_dev / (sample_size ** 0.5)\n",
    "\n",
    "# Calculate the confidence interval\n",
    "confidence_interval = stats.norm.interval(confidence_level, loc=mean, scale=standard_error)\n",
    "\n",
    "# Print the confidence interval\n",
    "print(\"90% Confidence Interval:\", confidence_interval)"
   ]
  },
  {
   "cell_type": "raw",
   "id": "7588d81c-0b1a-4617-a29b-c6511ad492c9",
   "metadata": {},
   "source": [
    "Interpretation of the results:\n",
    "\n",
    "You can interpret this result as follows: \"We are 95% confident that the true population mean lies within the interval [lower bound, upper bound].\" In practical terms, this means that if you were to repeat the same sampling and calculation process many times, you would expect the true population mean to fall within this range in approximately 95% of those cases.\n"
   ]
  },
  {
   "cell_type": "raw",
   "id": "9f96b573-42ea-4ebe-8b88-6ac003e675d3",
   "metadata": {},
   "source": [
    "Q6. Use Python to plot the chi-square distribution with 10 degrees of freedom. Label the axes and shade the area corresponding to a chi-square statistic of 15.\n"
   ]
  },
  {
   "cell_type": "code",
   "execution_count": 10,
   "id": "d7f5546f-691c-4549-9c66-4b8901b58c48",
   "metadata": {},
   "outputs": [
    {
     "data": {
      "image/png": "[encoded data removed]",
      "text/plain": [
       "<Figure size 800x600 with 1 Axes>"
      ]
     },
     "metadata": {},
     "output_type": "display_data"
    }
   ],
   "source": [
    "import numpy as np\n",
    "import matplotlib.pyplot as plt\n",
    "import scipy.stats as stats\n",
    "\n",
    "# Degrees of freedom\n",
    "df = 10\n",
    "\n",
    "# Generate x values for the chi-square distribution\n",
    "x = np.linspace(0, 30, 500)  # Adjust the range as needed\n",
    "\n",
    "# Calculate the chi-square probability density function (PDF) for the given degrees of freedom\n",
    "pdf = stats.chi2.pdf(x, df)\n",
    "\n",
    "# Create the plot\n",
    "plt.figure(figsize=(8, 6))\n",
    "plt.plot(x, pdf, label=f'Chi-square Distribution (df={df})', color='blue')\n",
    "\n",
    "# Shade the area corresponding to a chi-square statistic of 15\n",
    "x_shade = np.linspace(0, 15, 500)  # Range for shading\n",
    "pdf_shade = stats.chi2.pdf(x_shade, df)\n",
    "plt.fill_between(x_shade, pdf_shade, color='gray', alpha=0.5, label='Chi-square Statistic of 15')\n",
    "\n",
    "# Label the axes\n",
    "plt.xlabel('Chi-square Statistic')\n",
    "plt.ylabel('Probability Density')\n",
    "plt.title(f'Chi-square Distribution with {df} Degrees of Freedom')\n",
    "plt.legend()\n",
    "plt.grid(True)\n",
    "\n",
    "# Show the plot\n",
    "plt.show()\n"
   ]
  },
  {
   "cell_type": "raw",
   "id": "c77edfd0-42e7-4b47-94cf-aa89ed7e4b11",
   "metadata": {},
   "source": [
    "Q7. A random sample of 1000 people was asked if they preferred Coke or Pepsi. Of the sample, 520 preferred Coke. Calculate a 99% confidence interval for the true proportion of people in the population who prefer Coke.\n"
   ]
  },
  {
   "cell_type": "code",
   "execution_count": 11,
   "id": "277e8d10-f921-46fe-a549-4be5431697d9",
   "metadata": {},
   "outputs": [
    {
     "name": "stdout",
     "output_type": "stream",
     "text": [
      "99% Confidence Interval for Proportion of People Who Prefer Coke: (0.4793, 0.5607)\n"
     ]
    }
   ],
   "source": [
    "import scipy.stats as stats\n",
    "\n",
    "# Sample size\n",
    "sample_size = 1000\n",
    "\n",
    "# Number of people who prefer Coke in the sample\n",
    "coke_preferred = 520\n",
    "\n",
    "# Calculate the proportion of people who prefer Coke in the sample\n",
    "p_hat = coke_preferred / sample_size\n",
    "\n",
    "# Set the confidence level\n",
    "confidence_level = 0.99\n",
    "\n",
    "# Calculate the standard error of the proportion\n",
    "standard_error = ((p_hat * (1 - p_hat)) / sample_size) ** 0.5\n",
    "\n",
    "# Calculate the critical value (z-score) for the desired confidence level\n",
    "z = stats.norm.ppf(1 - (1 - confidence_level) / 2)\n",
    "\n",
    "# Calculate the margin of error\n",
    "margin_of_error = z * standard_error\n",
    "\n",
    "# Calculate the confidence interval\n",
    "lower_bound = p_hat - margin_of_error\n",
    "upper_bound = p_hat + margin_of_error\n",
    "\n",
    "# Print the confidence interval\n",
    "print(\"99% Confidence Interval for Proportion of People Who Prefer Coke: ({:.4f}, {:.4f})\".format(lower_bound, upper_bound))\n"
   ]
  },
  {
   "cell_type": "raw",
   "id": "9b5a2027-9f50-4331-beaa-f461fe8148cb",
   "metadata": {},
   "source": [
    "Q8. A researcher hypothesizes that a coin is biased towards tails. They flip the coin 100 times and observe 45 tails. Conduct a chi-square goodness of fit test to determine if the observed frequencies match the expected frequencies of a fair coin. Use a significance level of 0.05.\n"
   ]
  },
  {
   "cell_type": "code",
   "execution_count": 12,
   "id": "955ff782-1483-4e3a-ba8c-91e7783694a4",
   "metadata": {},
   "outputs": [
    {
     "name": "stdout",
     "output_type": "stream",
     "text": [
      "Fail to reject the null hypothesis: There is no significant evidence of bias.\n",
      "Chi-square Statistic: 1.0\n",
      "P-value: 0.31731050786291115\n"
     ]
    }
   ],
   "source": [
    "import scipy.stats as stats\n",
    "\n",
    "# Observed frequencies\n",
    "observed_tails = 45\n",
    "observed_heads = 100 - observed_tails\n",
    "\n",
    "# Expected frequencies for a fair coin\n",
    "expected_tails = 0.5 * 100\n",
    "expected_heads = 100 - expected_tails\n",
    "\n",
    "# Create an observed frequency list and an expected frequency list\n",
    "observed_frequencies = [observed_tails, observed_heads]\n",
    "expected_frequencies = [expected_tails, expected_heads]\n",
    "\n",
    "# Perform the chi-square goodness of fit test\n",
    "chi_square_statistic, p_value = stats.chisquare(observed_frequencies, expected_frequencies)\n",
    "\n",
    "# Set the significance level\n",
    "alpha = 0.05\n",
    "\n",
    "# Determine whether to reject the null hypothesis\n",
    "if p_value < alpha:\n",
    "    print(\"Reject the null hypothesis: The coin appears biased towards tails.\")\n",
    "else:\n",
    "    print(\"Fail to reject the null hypothesis: There is no significant evidence of bias.\")\n",
    "\n",
    "# Print the chi-square statistic and p-value\n",
    "print(\"Chi-square Statistic:\", chi_square_statistic)\n",
    "print(\"P-value:\", p_value)\n"
   ]
  },
  {
   "cell_type": "raw",
   "id": "0812cd15-2e46-4435-9333-1a8460d39cdf",
   "metadata": {},
   "source": [
    "Q9. A study was conducted to determine if there is an association between smoking status (smoker or non-smoker) and lung cancer diagnosis (yes or no). The results are shown in the contingency table below. Conduct a chi-square test for independence to determine if there is a significant association between smoking status and lung cancer diagnosis.\n"
   ]
  },
  {
   "cell_type": "code",
   "execution_count": 14,
   "id": "556289e4-dc44-4a93-a52f-9692f76f6999",
   "metadata": {},
   "outputs": [
    {
     "name": "stdout",
     "output_type": "stream",
     "text": [
      "statisctic=12.057347670250895\n",
      "p value is 0.0005158863863703744\n",
      "There is no significant association between smoking status and lung cancer diagnosis.\n"
     ]
    }
   ],
   "source": [
    "from scipy.stats import chi2_contingency\n",
    "\n",
    "# defining the table\n",
    "data = [[60,140],[30,170]]\n",
    "stat, p, dof, expected = chi2_contingency(data)\n",
    "print(\"statisctic={}\".format(stat))\n",
    "# interpret p-value\n",
    "alpha = 0.05\n",
    "print(\"p value is \" + str(p))\n",
    "if p <= alpha:\n",
    "\tprint('There is no significant association between smoking status and lung cancer diagnosis.')\n",
    "else:\n",
    "\tprint('There is a significant association between smoking status and lung cancer diagnosis.')\n"
   ]
  },
  {
   "cell_type": "raw",
   "id": "34a84daa-92ac-4582-9ada-59bbc5046f30",
   "metadata": {},
   "source": [
    "Q10. A study was conducted to determine if the proportion of people who prefer milk chocolate, dark chocolate, or white chocolate is different in the U.S. versus the U.K. A random sample of 500 people from the U.S. and a random sample of 500 people from the U.K. were surveyed. The results are shown in the contingency table below. Conduct a chi-square test for independence to determine if there is a significant association between chocolate preference and country of origin."
   ]
  },
  {
   "cell_type": "code",
   "execution_count": 13,
   "id": "33a6885a-3517-41ec-b460-7f5740780485",
   "metadata": {},
   "outputs": [
    {
     "name": "stdout",
     "output_type": "stream",
     "text": [
      "statisctic=13.393665158371041\n",
      "p value is 0.0012348168997745918\n",
      "There is no significant association between chocolate preference and country of origin.\n"
     ]
    }
   ],
   "source": [
    "from scipy.stats import chi2_contingency\n",
    "\n",
    "# defining the table\n",
    "data = [[200,150,150],[225,175,100]]\n",
    "stat, p, dof, expected = chi2_contingency(data)\n",
    "print(\"statisctic={}\".format(stat))\n",
    "# interpret p-value\n",
    "alpha = 0.01\n",
    "print(\"p value is \" + str(p))\n",
    "if p <= alpha:\n",
    "\tprint('There is no significant association between chocolate preference and country of origin.')\n",
    "else:\n",
    "\tprint('There is  a significant association between chocolate preference and country of origin.')\n"
   ]
  },
  {
   "cell_type": "raw",
   "id": "69199042-b0f5-42cc-81f6-aa5269ec0bf0",
   "metadata": {},
   "source": [
    "Q11. A random sample of 30 people was selected from a population with an unknown mean and standard deviation. The sample mean was found to be 72 and the sample standard deviation was found to be 10. Conduct a hypothesis test to determine if the population mean is significantly different from 70. Use a significance level of 0.05."
   ]
  },
  {
   "cell_type": "code",
   "execution_count": 15,
   "id": "250148d9-c7ff-48a5-bbc4-7e6e6e880754",
   "metadata": {},
   "outputs": [
    {
     "name": "stdout",
     "output_type": "stream",
     "text": [
      "Fail to reject the null hypothesis: There is no significant difference from 70.\n",
      "t-Statistic: 1.0954451150103321\n",
      "Degrees of Freedom: 29\n",
      "Critical t-Value: 2.045229642132703\n",
      "p-Value: 0.2823362372860698\n"
     ]
    }
   ],
   "source": [
    "import scipy.stats as stats\n",
    "\n",
    "# Sample statistics\n",
    "sample_mean = 72\n",
    "sample_std_dev = 10\n",
    "sample_size = 30\n",
    "\n",
    "# Null hypothesis (H0): Population mean is equal to 70\n",
    "# Alternative hypothesis (H1): Population mean is not equal to 70\n",
    "\n",
    "# Set the significance level\n",
    "alpha = 0.05\n",
    "\n",
    "# Calculate the t-statistic\n",
    "t_statistic = (sample_mean - 70) / (sample_std_dev / (sample_size ** 0.5))\n",
    "\n",
    "# Calculate the degrees of freedom\n",
    "degrees_of_freedom = sample_size - 1\n",
    "\n",
    "# Calculate the critical t-value for a two-tailed test\n",
    "critical_t_value = stats.t.ppf(1 - alpha / 2, degrees_of_freedom)\n",
    "\n",
    "# Calculate the p-value for a two-tailed test\n",
    "p_value = 2 * (1 - stats.t.cdf(abs(t_statistic), degrees_of_freedom))\n",
    "\n",
    "# Determine whether to reject the null hypothesis\n",
    "if abs(t_statistic) > critical_t_value:\n",
    "    print(\"Reject the null hypothesis: Population mean is significantly different from 70.\")\n",
    "else:\n",
    "    print(\"Fail to reject the null hypothesis: There is no significant difference from 70.\")\n",
    "\n",
    "# Print the t-statistic, degrees of freedom, critical t-value, and p-value\n",
    "print(\"t-Statistic:\", t_statistic)\n",
    "print(\"Degrees of Freedom:\", degrees_of_freedom)\n",
    "print(\"Critical t-Value:\", critical_t_value)\n",
    "print(\"p-Value:\", p_value)\n"
   ]
  },
  {
   "cell_type": "code",
   "execution_count": null,
   "id": "299e42fc-9804-48c6-8ecd-191fe0717c06",
   "metadata": {},
   "outputs": [],
   "source": []
  }
 ],
 "metadata": {
  "kernelspec": {
   "display_name": "Python 3 (ipykernel)",
   "language": "python",
   "name": "python3"
  },
  "language_info": {
   "codemirror_mode": {
    "name": "ipython",
    "version": 3
   },
   "file_extension": ".py",
   "mimetype": "text/x-python",
   "name": "python",
   "nbconvert_exporter": "python",
   "pygments_lexer": "ipython3",
   "version": "3.10.8"
  }
 },
 "nbformat": 4,
 "nbformat_minor": 5
}
