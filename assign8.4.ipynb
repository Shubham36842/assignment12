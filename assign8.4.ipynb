{
 "cells": [
  {
   "cell_type": "raw",
   "id": "91955a33-3e2c-424e-95ff-a9691ae05197",
   "metadata": {},
   "source": [
    "Q1. Write a Python function that takes in two arrays of data and calculates the F-value for a variance ratio test. The function should return the F-value and the corresponding p-value for the test.\n"
   ]
  },
  {
   "cell_type": "code",
   "execution_count": 3,
   "id": "83391fdc-f45c-4c30-b250-aff0edbd31ea",
   "metadata": {},
   "outputs": [
    {
     "name": "stdout",
     "output_type": "stream",
     "text": [
      "726.6004 741.7616\n",
      "F-statistic value = 0.9795605488340189 and p-value = 0.5286635735658719\n"
     ]
    }
   ],
   "source": [
    "import numpy as np\n",
    "import scipy.stats\n",
    "\n",
    "# Create data\n",
    "data1 = np.random.randint(1,100,50)\n",
    "data2= np.random.randint(1,100,50)\n",
    "\n",
    "# calculate variance of each group\n",
    "print(np.var(data1), np.var(data2))\n",
    "\n",
    "def f_test(data1, data2):\n",
    "\tf = np.var(data1, ddof=1)/np.var(data2, ddof=1)\n",
    "\tnun = data1.size-1\n",
    "\tdun = data2.size-1\n",
    "\tp_value = 1-scipy.stats.f.cdf(f, nun, dun)\n",
    "\treturn f, p_value\n",
    "\n",
    "# perform F-test\n",
    "f,p=f_test(data1, data2)\n",
    "print(f\"F-statistic value = {f} and p-value = {p}\")"
   ]
  },
  {
   "cell_type": "raw",
   "id": "61eeec3f-4aff-4a27-9da5-cf2f68bde539",
   "metadata": {},
   "source": [
    "Q2. Given a significance level of 0.05 and the degrees of freedom for the numerator and denominator of an F-distribution, write a Python function that returns the critical F-value for a two-tailed test.\n"
   ]
  },
  {
   "cell_type": "code",
   "execution_count": 4,
   "id": "91b23232-354e-4f4e-b2d5-a4832849283e",
   "metadata": {},
   "outputs": [
    {
     "name": "stdout",
     "output_type": "stream",
     "text": [
      "Critical F-value: 3.8586986662732143\n"
     ]
    }
   ],
   "source": [
    "import scipy.stats as stats\n",
    "\n",
    "def critical_f_value(alpha, dfn, dfd):\n",
    "    \"\"\"\n",
    "    Calculate the critical F-value for a two-tailed test.\n",
    "\n",
    "    Args:\n",
    "        alpha (float): Significance level (e.g., 0.05 for a 5% significance level).\n",
    "        dfn (int): Degrees of freedom for the numerator.\n",
    "        dfd (int): Degrees of freedom for the denominator.\n",
    "\n",
    "    Returns:\n",
    "        float: The critical F-value.\n",
    "    \"\"\"\n",
    "    # Calculate the right-tailed F-value (upper tail) for alpha/2\n",
    "    right_tail_prob = 1 - alpha / 2\n",
    "\n",
    "    # Calculate the critical F-value\n",
    "    critical_f = stats.f.ppf(right_tail_prob, dfn, dfd)\n",
    "\n",
    "    return critical_f\n",
    "\n",
    "alpha = 0.05\n",
    "dfn = 3  # Degrees of freedom for the numerator\n",
    "dfd = 20  # Degrees of freedom for the denominator\n",
    "critical_f = critical_f_value(alpha, dfn, dfd)\n",
    "print(f\"Critical F-value: {critical_f}\")\n"
   ]
  },
  {
   "cell_type": "raw",
   "id": "3e47266b-2bff-4a97-9aa0-38bd2f839b59",
   "metadata": {},
   "source": [
    "Q3. Write a Python program that generates random samples from two normal distributions with known variances and uses an F-test to determine if the variances are equal. The program should output the F- value, degrees of freedom, and p-value for the test."
   ]
  },
  {
   "cell_type": "code",
   "execution_count": 5,
   "id": "fd709e16-f520-4f11-b86e-da7d177f0a26",
   "metadata": {},
   "outputs": [
    {
     "name": "stdout",
     "output_type": "stream",
     "text": [
      "F-Test Results:\n",
      "F-Value: 4.3056\n",
      "Degrees of Freedom (Numerator): 49\n",
      "Degrees of Freedom (Denominator): 59\n",
      "P-Value: 0.0404\n",
      "Reject the null hypothesis: Variances are not equal.\n"
     ]
    }
   ],
   "source": [
    "import numpy as np\n",
    "import scipy.stats as stats\n",
    "\n",
    "# Set random seed for reproducibility\n",
    "np.random.seed(0)\n",
    "\n",
    "# Generate random samples from two normal distributions with known variances\n",
    "variance1 = 4  # Variance of the first distribution\n",
    "variance2 = 9  # Variance of the second distribution\n",
    "sample_size1 = 50  # Sample size for the first distribution\n",
    "sample_size2 = 60  # Sample size for the second distribution\n",
    "\n",
    "# Generate random samples from the two distributions\n",
    "sample1 = np.random.normal(0, np.sqrt(variance1), sample_size1)\n",
    "sample2 = np.random.normal(0, np.sqrt(variance2), sample_size2)\n",
    "\n",
    "# Perform the F-test for equality of variances\n",
    "f_statistic, p_value = stats.levene(sample1, sample2)\n",
    "\n",
    "# Calculate degrees of freedom for the F-test\n",
    "dfn = len(sample1) - 1\n",
    "dfd = len(sample2) - 1\n",
    "\n",
    "# Output the results\n",
    "print(\"F-Test Results:\")\n",
    "print(f\"F-Value: {f_statistic:.4f}\")\n",
    "print(f\"Degrees of Freedom (Numerator): {dfn}\")\n",
    "print(f\"Degrees of Freedom (Denominator): {dfd}\")\n",
    "print(f\"P-Value: {p_value:.4f}\")\n",
    "\n",
    "# Determine whether to reject the null hypothesis (equal variances) based on the p-value\n",
    "alpha = 0.05\n",
    "if p_value < alpha:\n",
    "    print(\"Reject the null hypothesis: Variances are not equal.\")\n",
    "else:\n",
    "    print(\"Fail to reject the null hypothesis: Variances are equal.\")\n"
   ]
  },
  {
   "cell_type": "raw",
   "id": "1cf8ba40-ec93-4474-9c1a-6f51cf1816cb",
   "metadata": {},
   "source": [
    "Q4.The variances of two populations are known to be 10 and 15. A sample of 12 observations is taken from each population. Conduct an F-test at the 5% significance level to determine if the variances are significantly different.\n"
   ]
  },
  {
   "cell_type": "code",
   "execution_count": 6,
   "id": "f793805f-6921-47a0-b3b8-b984b5492b37",
   "metadata": {},
   "outputs": [
    {
     "name": "stdout",
     "output_type": "stream",
     "text": [
      "Fail to reject the null hypothesis: Variances are not significantly different.\n"
     ]
    }
   ],
   "source": [
    "import scipy.stats as stats\n",
    "\n",
    "# Known variances of the populations\n",
    "variance1 = 10\n",
    "variance2 = 15\n",
    "\n",
    "# Sample size\n",
    "sample_size = 12\n",
    "\n",
    "# Calculate the F-statistic\n",
    "F_statistic = variance1 / variance2\n",
    "\n",
    "# Degrees of freedom\n",
    "dfn = sample_size - 1  # Degrees of freedom for the numerator\n",
    "dfd = sample_size - 1  # Degrees of freedom for the denominator\n",
    "\n",
    "# Set the significance level\n",
    "alpha = 0.05\n",
    "\n",
    "# Calculate the critical F-value for a two-tailed test\n",
    "critical_F = stats.f.ppf(1 - alpha/2, dfn, dfd)\n",
    "\n",
    "# Perform the F-test\n",
    "if F_statistic > critical_F:\n",
    "    print(\"Reject the null hypothesis: Variances are significantly different.\")\n",
    "else:\n",
    "    print(\"Fail to reject the null hypothesis: Variances are not significantly different.\")\n"
   ]
  },
  {
   "cell_type": "raw",
   "id": "9f5e4adf-05ea-440e-b704-5a820d2f912e",
   "metadata": {},
   "source": [
    "Q5. A manufacturer claims that the variance of the diameter of a certain product is 0.005. A sample of 25 products is taken, and the sample variance is found to be 0.006. Conduct an F-test at the 1% significance level to determine if the claim is justified.\n"
   ]
  },
  {
   "cell_type": "code",
   "execution_count": 7,
   "id": "1cbdce61-4c05-4369-8c4d-6dcb4a094e42",
   "metadata": {},
   "outputs": [
    {
     "name": "stdout",
     "output_type": "stream",
     "text": [
      "Fail to reject the null hypothesis: The manufacturer's claim is justified.\n"
     ]
    }
   ],
   "source": [
    "import scipy.stats as stats\n",
    "import numpy as np\n",
    "\n",
    "# Manufacturer's claimed variance\n",
    "claimed_variance = 0.005\n",
    "\n",
    "# Sample variance\n",
    "sample_variance = 0.006\n",
    "\n",
    "# Sample size\n",
    "sample_size = 25\n",
    "\n",
    "# Calculate the F-statistic\n",
    "F_statistic = sample_variance / claimed_variance\n",
    "\n",
    "# Degrees of freedom for the numerator\n",
    "dfn = sample_size - 1\n",
    "\n",
    "# Set the significance level\n",
    "alpha = 0.01\n",
    "\n",
    "# Calculate the critical F-value for a two-tailed test\n",
    "critical_F = stats.f.ppf(1 - alpha/2, dfn, np.inf)\n",
    "\n",
    "# Perform the F-test\n",
    "if F_statistic > critical_F:\n",
    "    print(\"Reject the null hypothesis: The manufacturer's claim is not justified.\")\n",
    "else:\n",
    "    print(\"Fail to reject the null hypothesis: The manufacturer's claim is justified.\")\n"
   ]
  },
  {
   "cell_type": "raw",
   "id": "8b3f4433-7bac-483b-9837-31d7d8032b11",
   "metadata": {},
   "source": [
    "Q6. Write a Python function that takes in the degrees of freedom for the numerator and denominator of an F-distribution and calculates the mean and variance of the distribution. The function should return the mean and variance as a tuple.\n"
   ]
  },
  {
   "cell_type": "code",
   "execution_count": 8,
   "id": "71b748be-5526-4fa2-b6c5-0d1b18063dea",
   "metadata": {},
   "outputs": [
    {
     "name": "stdout",
     "output_type": "stream",
     "text": [
      "Mean of F-distribution: 1.3333333333333333\n",
      "Variance of F-distribution: 2.6666666666666665\n"
     ]
    }
   ],
   "source": [
    "def calculate_f_distribution_mean_and_variance(dfn, dfd):\n",
    "    \"\"\"\n",
    "    Calculate the mean and variance of an F-distribution.\n",
    "\n",
    "    Args:\n",
    "        dfn (int): Degrees of freedom for the numerator.\n",
    "        dfd (int): Degrees of freedom for the denominator.\n",
    "\n",
    "    Returns:\n",
    "        tuple: A tuple containing the mean and variance of the F-distribution.\n",
    "               If the mean or variance is undefined, returns (None, None).\n",
    "    \"\"\"\n",
    "    # Check if dfd is greater than 2\n",
    "    if dfd <= 2:\n",
    "        return (None, None)\n",
    "\n",
    "    # Calculate the mean\n",
    "    mean = dfd / (dfd - 2) if dfd > 2 else None\n",
    "\n",
    "    # Check if dfd is greater than 4\n",
    "    if dfd <= 4:\n",
    "        return (mean, None)\n",
    "\n",
    "    # Calculate the variance\n",
    "    variance = (2 * (dfd**2) * (dfn + dfd - 2)) / (dfn * (dfd - 2)**2 * (dfd - 4))\n",
    "\n",
    "    return (mean, variance)\n",
    "\n",
    "# Example usage:\n",
    "dfn = 3\n",
    "dfd = 8\n",
    "mean, variance = calculate_f_distribution_mean_and_variance(dfn, dfd)\n",
    "print(f\"Mean of F-distribution: {mean}\")\n",
    "print(f\"Variance of F-distribution: {variance}\")\n"
   ]
  },
  {
   "cell_type": "raw",
   "id": "659e1116-fd98-4954-929e-e6da2d2c9fad",
   "metadata": {},
   "source": [
    "Q7. A random sample of 10 measurements is taken from a normal population with unknown variance. The sample variance is found to be 25. Another random sample of 15 measurements is taken from another normal population with unknown variance, and the sample variance is found to be 20. Conduct an F-test at the 10% significance level to determine if the variances are significantly different.\n"
   ]
  },
  {
   "cell_type": "code",
   "execution_count": 9,
   "id": "1ea7215c-4294-4001-a486-18b9e2503578",
   "metadata": {},
   "outputs": [
    {
     "name": "stdout",
     "output_type": "stream",
     "text": [
      "Fail to reject the null hypothesis: Variances are not significantly different.\n"
     ]
    }
   ],
   "source": [
    "import scipy.stats as stats\n",
    "\n",
    "# Sample variances\n",
    "sample_variance1 = 25\n",
    "sample_variance2 = 20\n",
    "\n",
    "# Sample sizes\n",
    "sample_size1 = 10\n",
    "sample_size2 = 15\n",
    "\n",
    "# Calculate the F-statistic\n",
    "F_statistic = sample_variance1 / sample_variance2\n",
    "\n",
    "# Degrees of freedom\n",
    "dfn = sample_size1 - 1  # Degrees of freedom for the numerator\n",
    "dfd = sample_size2 - 1  # Degrees of freedom for the denominator\n",
    "\n",
    "# Set the significance level\n",
    "alpha = 0.10\n",
    "\n",
    "# Calculate the critical F-value for a two-tailed test\n",
    "critical_F_lower = stats.f.ppf(alpha / 2, dfn, dfd)\n",
    "critical_F_upper = 1 / critical_F_lower\n",
    "\n",
    "# Perform the F-test\n",
    "if F_statistic > critical_F_upper or F_statistic < critical_F_lower:\n",
    "    print(\"Reject the null hypothesis: Variances are significantly different.\")\n",
    "else:\n",
    "    print(\"Fail to reject the null hypothesis: Variances are not significantly different.\")\n"
   ]
  },
  {
   "cell_type": "raw",
   "id": "fa1f147a-d39e-4ced-8617-78176bd7032b",
   "metadata": {},
   "source": [
    "Q8. The following data represent the waiting times in minutes at two different restaurants on a Saturday night: Restaurant A: 24, 25, 28, 23, 22, 20, 27; Restaurant B: 31, 33, 35, 30, 32, 36. Conduct an F-test at the 5% significance level to determine if the variances are significantly different.\n"
   ]
  },
  {
   "cell_type": "code",
   "execution_count": 10,
   "id": "ad81c450-c5c3-45b2-9781-03bf393224be",
   "metadata": {},
   "outputs": [
    {
     "name": "stdout",
     "output_type": "stream",
     "text": [
      "Fail to reject the null hypothesis: Variances are not significantly different.\n"
     ]
    }
   ],
   "source": [
    "import scipy.stats as stats\n",
    "\n",
    "# Waiting times data for Restaurant A and Restaurant B\n",
    "waiting_times_A = [24, 25, 28, 23, 22, 20, 27]\n",
    "waiting_times_B = [31, 33, 35, 30, 32, 36]\n",
    "\n",
    "# Calculate sample variances\n",
    "variance_A = sum([(x - sum(waiting_times_A) / len(waiting_times_A))**2 for x in waiting_times_A]) / (len(waiting_times_A) - 1)\n",
    "variance_B = sum([(x - sum(waiting_times_B) / len(waiting_times_B))**2 for x in waiting_times_B]) / (len(waiting_times_B) - 1)\n",
    "\n",
    "# Calculate the F-statistic\n",
    "F_statistic = variance_A / variance_B\n",
    "\n",
    "# Degrees of freedom\n",
    "dfn = len(waiting_times_A) - 1  # Degrees of freedom for the numerator\n",
    "dfd = len(waiting_times_B) - 1  # Degrees of freedom for the denominator\n",
    "\n",
    "# Set the significance level\n",
    "alpha = 0.05\n",
    "\n",
    "# Calculate the critical F-value for a two-tailed test\n",
    "critical_F_lower = stats.f.ppf(alpha / 2, dfn, dfd)\n",
    "critical_F_upper = 1 / critical_F_lower\n",
    "\n",
    "# Perform the F-test\n",
    "if F_statistic > critical_F_upper or F_statistic < critical_F_lower:\n",
    "    print(\"Reject the null hypothesis: Variances are significantly different.\")\n",
    "else:\n",
    "    print(\"Fail to reject the null hypothesis: Variances are not significantly different.\")\n"
   ]
  },
  {
   "cell_type": "raw",
   "id": "dad515d7-d6eb-4a77-8e24-92ffb3ec8269",
   "metadata": {},
   "source": [
    "Q9. The following data represent the test scores of two groups of students: Group A: 80, 85, 90, 92, 87, 83; Group B: 75, 78, 82, 79, 81, 84. Conduct an F-test at the 1% significance level to determine if the variances are significantly different."
   ]
  },
  {
   "cell_type": "code",
   "execution_count": 11,
   "id": "712273aa-d22a-492b-a0f4-2c348d796d92",
   "metadata": {},
   "outputs": [
    {
     "name": "stdout",
     "output_type": "stream",
     "text": [
      "Fail to reject the null hypothesis: Variances are not significantly different.\n"
     ]
    }
   ],
   "source": [
    "import scipy.stats as stats\n",
    "\n",
    "# Test scores data for Group A and Group B\n",
    "scores_A = [80, 85, 90, 92, 87, 83]\n",
    "scores_B = [75, 78, 82, 79, 81, 84]\n",
    "\n",
    "# Calculate sample variances\n",
    "variance_A = sum([(x - sum(scores_A) / len(scores_A))**2 for x in scores_A]) / (len(scores_A) - 1)\n",
    "variance_B = sum([(x - sum(scores_B) / len(scores_B))**2 for x in scores_B]) / (len(scores_B) - 1)\n",
    "\n",
    "# Calculate the F-statistic\n",
    "F_statistic = variance_A / variance_B\n",
    "\n",
    "# Degrees of freedom\n",
    "dfn = len(scores_A) - 1  # Degrees of freedom for the numerator\n",
    "dfd = len(scores_B) - 1  # Degrees of freedom for the denominator\n",
    "\n",
    "# Set the significance level\n",
    "alpha = 0.01\n",
    "\n",
    "# Calculate the critical F-value for a two-tailed test\n",
    "critical_F_lower = stats.f.ppf(alpha / 2, dfn, dfd)\n",
    "critical_F_upper = 1 / critical_F_lower\n",
    "\n",
    "# Perform the F-test\n",
    "if F_statistic > critical_F_upper or F_statistic < critical_F_lower:\n",
    "    print(\"Reject the null hypothesis: Variances are significantly different.\")\n",
    "else:\n",
    "    print(\"Fail to reject the null hypothesis: Variances are not significantly different.\")\n"
   ]
  },
  {
   "cell_type": "code",
   "execution_count": null,
   "id": "46503bd9-279d-4a7d-807e-2860eb066e34",
   "metadata": {},
   "outputs": [],
   "source": []
  }
 ],
 "metadata": {
  "kernelspec": {
   "display_name": "Python 3 (ipykernel)",
   "language": "python",
   "name": "python3"
  },
  "language_info": {
   "codemirror_mode": {
    "name": "ipython",
    "version": 3
   },
   "file_extension": ".py",
   "mimetype": "text/x-python",
   "name": "python",
   "nbconvert_exporter": "python",
   "pygments_lexer": "ipython3",
   "version": "3.10.8"
  }
 },
 "nbformat": 4,
 "nbformat_minor": 5
}
